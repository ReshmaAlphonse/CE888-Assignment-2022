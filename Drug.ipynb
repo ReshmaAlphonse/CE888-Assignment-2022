{
 "cells": [
  {
   "cell_type": "code",
   "execution_count": 35,
   "id": "abcf3c21",
   "metadata": {},
   "outputs": [],
   "source": [
    "import warnings\n",
    "warnings.filterwarnings(\"ignore\")\n",
    "\n",
    "import pandas as pd\n",
    "import numpy as np\n",
    "import matplotlib.pyplot as plt\n",
    "import seaborn as sns\n",
    "%matplotlib inline\n",
    "from statistics import mean, stdev\n",
    "from sklearn import preprocessing\n",
    "from sklearn.model_selection import StratifiedKFold\n",
    "from sklearn.ensemble import RandomForestClassifier\n",
    "from sklearn.metrics import plot_confusion_matrix\n",
    "from sklearn.metrics import f1_score, recall_score, precision_score, silhouette_score\n",
    "\n",
    "from sklearn.cluster import KMeans\n",
    "import matplotlib.pyplot as plt\n",
    "from scipy.spatial.distance import cdist"
   ]
  },
  {
   "cell_type": "code",
   "execution_count": 2,
   "id": "c3034e7d",
   "metadata": {},
   "outputs": [
    {
     "data": {
      "text/html": [
       "<div>\n",
       "<style scoped>\n",
       "    .dataframe tbody tr th:only-of-type {\n",
       "        vertical-align: middle;\n",
       "    }\n",
       "\n",
       "    .dataframe tbody tr th {\n",
       "        vertical-align: top;\n",
       "    }\n",
       "\n",
       "    .dataframe thead th {\n",
       "        text-align: right;\n",
       "    }\n",
       "</style>\n",
       "<table border=\"1\" class=\"dataframe\">\n",
       "  <thead>\n",
       "    <tr style=\"text-align: right;\">\n",
       "      <th></th>\n",
       "      <th>Age</th>\n",
       "      <th>Sex</th>\n",
       "      <th>BP</th>\n",
       "      <th>Cholesterol</th>\n",
       "      <th>Na_to_K</th>\n",
       "      <th>Drug</th>\n",
       "    </tr>\n",
       "  </thead>\n",
       "  <tbody>\n",
       "    <tr>\n",
       "      <th>0</th>\n",
       "      <td>23</td>\n",
       "      <td>F</td>\n",
       "      <td>HIGH</td>\n",
       "      <td>HIGH</td>\n",
       "      <td>25.355</td>\n",
       "      <td>DrugY</td>\n",
       "    </tr>\n",
       "    <tr>\n",
       "      <th>1</th>\n",
       "      <td>47</td>\n",
       "      <td>M</td>\n",
       "      <td>LOW</td>\n",
       "      <td>HIGH</td>\n",
       "      <td>13.093</td>\n",
       "      <td>drugC</td>\n",
       "    </tr>\n",
       "    <tr>\n",
       "      <th>2</th>\n",
       "      <td>47</td>\n",
       "      <td>M</td>\n",
       "      <td>LOW</td>\n",
       "      <td>HIGH</td>\n",
       "      <td>10.114</td>\n",
       "      <td>drugC</td>\n",
       "    </tr>\n",
       "    <tr>\n",
       "      <th>3</th>\n",
       "      <td>28</td>\n",
       "      <td>F</td>\n",
       "      <td>NORMAL</td>\n",
       "      <td>HIGH</td>\n",
       "      <td>7.798</td>\n",
       "      <td>drugX</td>\n",
       "    </tr>\n",
       "    <tr>\n",
       "      <th>4</th>\n",
       "      <td>61</td>\n",
       "      <td>F</td>\n",
       "      <td>LOW</td>\n",
       "      <td>HIGH</td>\n",
       "      <td>18.043</td>\n",
       "      <td>DrugY</td>\n",
       "    </tr>\n",
       "  </tbody>\n",
       "</table>\n",
       "</div>"
      ],
      "text/plain": [
       "   Age Sex      BP Cholesterol  Na_to_K   Drug\n",
       "0   23   F    HIGH        HIGH   25.355  DrugY\n",
       "1   47   M     LOW        HIGH   13.093  drugC\n",
       "2   47   M     LOW        HIGH   10.114  drugC\n",
       "3   28   F  NORMAL        HIGH    7.798  drugX\n",
       "4   61   F     LOW        HIGH   18.043  DrugY"
      ]
     },
     "execution_count": 2,
     "metadata": {},
     "output_type": "execute_result"
    }
   ],
   "source": [
    "df = pd.read_csv('drug200.csv')\n",
    "df.head()"
   ]
  },
  {
   "cell_type": "code",
   "execution_count": 4,
   "id": "4fbfdf05",
   "metadata": {},
   "outputs": [
    {
     "data": {
      "text/plain": [
       "DrugY    91\n",
       "drugX    54\n",
       "drugA    23\n",
       "drugC    16\n",
       "drugB    16\n",
       "Name: Drug, dtype: int64"
      ]
     },
     "execution_count": 4,
     "metadata": {},
     "output_type": "execute_result"
    }
   ],
   "source": [
    "df['Drug'].value_counts()"
   ]
  },
  {
   "cell_type": "code",
   "execution_count": 21,
   "id": "1947e559",
   "metadata": {},
   "outputs": [
    {
     "data": {
      "text/html": [
       "<div>\n",
       "<style scoped>\n",
       "    .dataframe tbody tr th:only-of-type {\n",
       "        vertical-align: middle;\n",
       "    }\n",
       "\n",
       "    .dataframe tbody tr th {\n",
       "        vertical-align: top;\n",
       "    }\n",
       "\n",
       "    .dataframe thead th {\n",
       "        text-align: right;\n",
       "    }\n",
       "</style>\n",
       "<table border=\"1\" class=\"dataframe\">\n",
       "  <thead>\n",
       "    <tr style=\"text-align: right;\">\n",
       "      <th></th>\n",
       "      <th>Age</th>\n",
       "      <th>Sex</th>\n",
       "      <th>BP</th>\n",
       "      <th>Cholesterol</th>\n",
       "      <th>Na_to_K</th>\n",
       "      <th>Drug</th>\n",
       "    </tr>\n",
       "  </thead>\n",
       "  <tbody>\n",
       "    <tr>\n",
       "      <th>0</th>\n",
       "      <td>8</td>\n",
       "      <td>0</td>\n",
       "      <td>0</td>\n",
       "      <td>0</td>\n",
       "      <td>167</td>\n",
       "      <td>0</td>\n",
       "    </tr>\n",
       "    <tr>\n",
       "      <th>1</th>\n",
       "      <td>30</td>\n",
       "      <td>1</td>\n",
       "      <td>1</td>\n",
       "      <td>0</td>\n",
       "      <td>89</td>\n",
       "      <td>3</td>\n",
       "    </tr>\n",
       "    <tr>\n",
       "      <th>2</th>\n",
       "      <td>30</td>\n",
       "      <td>1</td>\n",
       "      <td>1</td>\n",
       "      <td>0</td>\n",
       "      <td>43</td>\n",
       "      <td>3</td>\n",
       "    </tr>\n",
       "    <tr>\n",
       "      <th>3</th>\n",
       "      <td>12</td>\n",
       "      <td>0</td>\n",
       "      <td>2</td>\n",
       "      <td>0</td>\n",
       "      <td>10</td>\n",
       "      <td>4</td>\n",
       "    </tr>\n",
       "    <tr>\n",
       "      <th>4</th>\n",
       "      <td>44</td>\n",
       "      <td>0</td>\n",
       "      <td>1</td>\n",
       "      <td>0</td>\n",
       "      <td>133</td>\n",
       "      <td>0</td>\n",
       "    </tr>\n",
       "  </tbody>\n",
       "</table>\n",
       "</div>"
      ],
      "text/plain": [
       "   Age  Sex  BP  Cholesterol  Na_to_K  Drug\n",
       "0    8    0   0            0      167     0\n",
       "1   30    1   1            0       89     3\n",
       "2   30    1   1            0       43     3\n",
       "3   12    0   2            0       10     4\n",
       "4   44    0   1            0      133     0"
      ]
     },
     "execution_count": 21,
     "metadata": {},
     "output_type": "execute_result"
    }
   ],
   "source": [
    "from sklearn.preprocessing import LabelEncoder\n",
    "def label_encoding(c):\n",
    "    le = LabelEncoder()\n",
    "    df[c] = le.fit_transform(df[c])\n",
    "    df[c].unique()\n",
    "for col in df.columns:\n",
    "    label_encoding(col)\n",
    "df.head()"
   ]
  },
  {
   "cell_type": "code",
   "execution_count": 22,
   "id": "21814de9",
   "metadata": {},
   "outputs": [
    {
     "data": {
      "text/plain": [
       "<AxesSubplot:xlabel='Drug', ylabel='count'>"
      ]
     },
     "execution_count": 22,
     "metadata": {},
     "output_type": "execute_result"
    },
    {
     "data": {
      "image/png": "[encoded data removed]",
      "text/plain": [
       "<Figure size 432x288 with 1 Axes>"
      ]
     },
     "metadata": {
      "needs_background": "light"
     },
     "output_type": "display_data"
    }
   ],
   "source": [
    "sns.countplot(df['Drug'])"
   ]
  },
  {
   "cell_type": "code",
   "execution_count": 23,
   "id": "d1ba09d0",
   "metadata": {},
   "outputs": [],
   "source": [
    "size_1 = 0.65\n",
    "size_2 = 0.75\n",
    "size_3 = 0.9"
   ]
  },
  {
   "cell_type": "code",
   "execution_count": 24,
   "id": "4f6ad77c",
   "metadata": {},
   "outputs": [],
   "source": [
    "y = df['Drug']\n",
    "max_ = y.value_counts().max()"
   ]
  },
  {
   "cell_type": "code",
   "execution_count": 25,
   "id": "df2f0a67",
   "metadata": {},
   "outputs": [],
   "source": [
    "def subsampling(df, size):\n",
    "    # We will calculate the number of rows that we will leave for the other classes \n",
    "    n_other_classes = int((max_/size - max_)/(len(y.unique())-1))\n",
    "    print(n_other_classes)\n",
    "    # We will take randomly n_other_classes lines of each class\n",
    "    subsample = []\n",
    "    for label in y.value_counts().index[:4]:\n",
    "        samples = y[y == label].index.values\n",
    "        subsample += np.random.choice(samples, n_other_classes).tolist()\n",
    "    return subsample"
   ]
  },
  {
   "cell_type": "code",
   "execution_count": 26,
   "id": "b0300d13",
   "metadata": {},
   "outputs": [
    {
     "name": "stdout",
     "output_type": "stream",
     "text": [
      "12\n",
      "7\n",
      "2\n"
     ]
    }
   ],
   "source": [
    "subsample_1 =  subsampling(df, size_1)\n",
    "subsample_2 =  subsampling(df, size_2)\n",
    "subsample_3 =  subsampling(df, size_3)"
   ]
  },
  {
   "cell_type": "code",
   "execution_count": 27,
   "id": "6732d6e9",
   "metadata": {},
   "outputs": [
    {
     "name": "stdout",
     "output_type": "stream",
     "text": [
      "0.49295774647887325\n",
      "0.5882352941176471\n",
      "0.8064516129032258\n"
     ]
    }
   ],
   "source": [
    "max_class_label = y.value_counts().index[2]\n",
    "df_max_class = df[df['Drug']==max_class_label]\n",
    "\n",
    "df_1 = pd.concat([df_max_class, df.iloc[subsample_1]])\n",
    "df_2 = pd.concat([df_max_class, df.iloc[subsample_2]])\n",
    "df_3 = pd.concat([df_max_class, df.iloc[subsample_3]])\n",
    "\n",
    "#To make sure\n",
    "print(df_1['Drug'].value_counts().max()/df_1['Drug'].value_counts().sum())\n",
    "print(df_2['Drug'].value_counts().max()/df_2['Drug'].value_counts().sum())\n",
    "print(df_3['Drug'].value_counts().max()/df_3['Drug'].value_counts().sum())"
   ]
  },
  {
   "cell_type": "code",
   "execution_count": 28,
   "id": "f2f66810",
   "metadata": {},
   "outputs": [],
   "source": [
    "df_1.to_csv('df_1.csv',index=False)\n",
    "df_2.to_csv('df_2.csv',index=False)\n",
    "df_3.to_csv('df_3.csv',index=False)"
   ]
  },
  {
   "cell_type": "code",
   "execution_count": 29,
   "id": "57631cfc",
   "metadata": {},
   "outputs": [],
   "source": [
    "from statistics import mean, stdev\n",
    "from sklearn import preprocessing\n",
    "from sklearn.model_selection import StratifiedKFold\n",
    "from sklearn.ensemble import RandomForestClassifier\n",
    "from sklearn.metrics import plot_confusion_matrix\n",
    "from sklearn.metrics import f1_score, recall_score, precision_score\n",
    "\n",
    "#Create a Random forest Classifier\n",
    "clf=RandomForestClassifier(n_estimators=5)\n",
    "\n",
    "# Create StratifiedKFold object.\n",
    "skf = StratifiedKFold(n_splits=10, shuffle=True, random_state=1)\n"
   ]
  },
  {
   "cell_type": "code",
   "execution_count": 30,
   "id": "e496338e",
   "metadata": {},
   "outputs": [
    {
     "name": "stdout",
     "output_type": "stream",
     "text": [
      "List of possible accuracy: [0.95, 1.0, 0.85, 0.9, 0.95, 1.0, 0.95, 1.0, 0.95, 1.0]\n",
      "\n",
      "Overall accuracy: 95.5 %\n",
      "\n",
      "Overall F1 Score: 90.76316102198454 %\n"
     ]
    }
   ],
   "source": [
    "X = df.iloc[:,[0,1,2,3,4]]\n",
    "y = df[\"Drug\"]\n",
    "\n",
    "lst_accu_stratified = []\n",
    "lst_f1score_stratified = []\n",
    "\n",
    "for train_index, test_index in skf.split(X, y):\n",
    "    x_train, x_test = X.iloc[train_index], X.iloc[test_index]\n",
    "    y_train, y_test = y.iloc[train_index], y.iloc[test_index]\n",
    "    clf.fit(x_train, y_train)\n",
    "    \n",
    "    lst_accu_stratified.append(clf.score(x_test, y_test))\n",
    "    lst_f1score_stratified.extend(f1_score(y_test,clf.predict(x_test), average=None))\n",
    "    \n",
    "    \n",
    "    #plot_confusion_matrix(clf, x_train,y_train)\n",
    "\n",
    "print('List of possible accuracy:', lst_accu_stratified)\n",
    "print('\\nOverall accuracy:', mean(lst_accu_stratified)*100, '%')\n",
    "print('\\nOverall F1 Score:', mean(lst_f1score_stratified)*100, '%')"
   ]
  },
  {
   "cell_type": "code",
   "execution_count": 31,
   "id": "6d7f7a0b",
   "metadata": {},
   "outputs": [
    {
     "name": "stdout",
     "output_type": "stream",
     "text": [
      "List of possible accuracy: [0.875, 0.7142857142857143, 0.8571428571428571, 0.7142857142857143, 0.8571428571428571, 0.8571428571428571, 1.0, 0.8571428571428571, 1.0, 1.0]\n",
      "\n",
      "Overall accuracy: 87.32142857142857 %\n",
      "\n",
      "Overall F1 Score: 74.63888888888889 %\n"
     ]
    }
   ],
   "source": [
    "X = df_1.iloc[:,[0,1,2,3,4]]\n",
    "y = df_1[\"Drug\"]\n",
    "\n",
    "lst_accu_stratified_1 = []\n",
    "lst_f1score_stratified_1 = []\n",
    "\n",
    "for train_index, test_index in skf.split(X, y):\n",
    "    x_train, x_test = X.iloc[train_index], X.iloc[test_index]\n",
    "    y_train, y_test = y.iloc[train_index], y.iloc[test_index]\n",
    "    clf.fit(x_train, y_train)\n",
    "    \n",
    "    lst_accu_stratified_1.append(clf.score(x_test, y_test))\n",
    "    lst_f1score_stratified_1.extend(f1_score(y_test,clf.predict(x_test), average=None))\n",
    "    \n",
    "    \n",
    "    #plot_confusion_matrix(clf, x_train,y_train)\n",
    "\n",
    "print('List of possible accuracy:', lst_accu_stratified_1)\n",
    "print('\\nOverall accuracy:', mean(lst_accu_stratified_1)*100, '%')\n",
    "print('\\nOverall F1 Score:', mean(lst_f1score_stratified_1)*100, '%')"
   ]
  },
  {
   "cell_type": "code",
   "execution_count": 33,
   "id": "e1be412b",
   "metadata": {},
   "outputs": [
    {
     "name": "stdout",
     "output_type": "stream",
     "text": [
      "List of possible accuracy: [1.0, 1.0, 0.6, 0.8, 1.0, 1.0, 0.8, 1.0, 1.0, 1.0]\n",
      "\n",
      "Overall accuracy: 92.0 %\n",
      "\n",
      "Overall F1 Score: 81.38528138528139 %\n"
     ]
    }
   ],
   "source": [
    "X = df_2.iloc[:,[0,1,2,3,4]]\n",
    "y = df_2[\"Drug\"]\n",
    "\n",
    "lst_accu_stratified_2 = []\n",
    "lst_f1score_stratified_2 = []\n",
    "\n",
    "for train_index, test_index in skf.split(X, y):\n",
    "    x_train, x_test = X.iloc[train_index], X.iloc[test_index]\n",
    "    y_train, y_test = y.iloc[train_index], y.iloc[test_index]\n",
    "    clf.fit(x_train, y_train)\n",
    "    \n",
    "    lst_accu_stratified_2.append(clf.score(x_test, y_test))\n",
    "    lst_f1score_stratified_2.extend(f1_score(y_test,clf.predict(x_test), average=None))\n",
    "    \n",
    "    \n",
    "    #plot_confusion_matrix(clf, x_train,y_train)\n",
    "\n",
    "print('List of possible accuracy:', lst_accu_stratified_2)\n",
    "print('\\nOverall accuracy:', mean(lst_accu_stratified_2)*100, '%')\n",
    "print('\\nOverall F1 Score:', mean(lst_f1score_stratified_2)*100, '%')"
   ]
  },
  {
   "cell_type": "code",
   "execution_count": 34,
   "id": "f130f712",
   "metadata": {},
   "outputs": [
    {
     "name": "stdout",
     "output_type": "stream",
     "text": [
      "List of possible accuracy: [0.75, 1.0, 1.0, 1.0, 1.0, 0.6666666666666666, 0.6666666666666666, 0.6666666666666666, 0.6666666666666666, 0.6666666666666666]\n",
      "\n",
      "Overall accuracy: 80.83333333333333 %\n",
      "\n",
      "Overall F1 Score: 49.473684210526315 %\n"
     ]
    }
   ],
   "source": [
    "X = df_3.iloc[:,[0,1,2,3,4]]\n",
    "y = df_3[\"Drug\"]\n",
    "\n",
    "lst_accu_stratified_3 = []\n",
    "lst_f1score_stratified_3 = []\n",
    "\n",
    "for train_index, test_index in skf.split(X, y):\n",
    "    x_train, x_test = X.iloc[train_index], X.iloc[test_index]\n",
    "    y_train, y_test = y.iloc[train_index], y.iloc[test_index]\n",
    "    clf.fit(x_train, y_train)\n",
    "    \n",
    "    lst_accu_stratified_3.append(clf.score(x_test, y_test))\n",
    "    lst_f1score_stratified_3.extend(f1_score(y_test,clf.predict(x_test), average=None))\n",
    "    \n",
    "    \n",
    "    #plot_confusion_matrix(clf, x_train,y_train)\n",
    "\n",
    "print('List of possible accuracy:', lst_accu_stratified_3)\n",
    "print('\\nOverall accuracy:', mean(lst_accu_stratified_3)*100, '%')\n",
    "print('\\nOverall F1 Score:', mean(lst_f1score_stratified_3)*100, '%')"
   ]
  },
  {
   "cell_type": "code",
   "execution_count": 36,
   "id": "e303fb92",
   "metadata": {},
   "outputs": [],
   "source": [
    "skf = StratifiedKFold(n_splits=10, shuffle=True, random_state=1)\n",
    "\n",
    "X = df.iloc[:,[0,1,2,3,4]]\n",
    "y = df[\"Drug\"]\n",
    "\n",
    "lst_x_train = []\n",
    "lst_x_test  = []\n",
    "lst_y_train = []\n",
    "lst_y_test  = []\n",
    "\n",
    "for train_index, test_index in skf.split(X, y):\n",
    "    x_train, x_test, y_train, y_test  = X.iloc[train_index], X.iloc[test_index], y.iloc[train_index], y.iloc[test_index]\n",
    "    lst_x_train.append(x_train)\n",
    "    lst_x_test.append(x_test)\n",
    "    lst_y_train.append(y_train)\n",
    "    lst_y_test.append(y_test)"
   ]
  },
  {
   "cell_type": "code",
   "execution_count": 37,
   "id": "0f80b713",
   "metadata": {},
   "outputs": [],
   "source": [
    "distortions = []\n",
    "inertias = []\n",
    "mapping1 = {}\n",
    "mapping2 = {}\n",
    "K = range(1, 20)\n",
    "\n",
    "for k in K:\n",
    "\t# Building and fitting the model\n",
    "\tkmeanModel = KMeans(n_clusters=k).fit(x_train)\n",
    "\tdistortions.append(sum(np.min(cdist(x_train, kmeanModel.cluster_centers_, 'euclidean'), axis=1)) / x_train.shape[0])\n",
    "\tinertias.append(kmeanModel.inertia_)\n",
    "\tmapping1[k] = sum(np.min(cdist(x_train, kmeanModel.cluster_centers_, 'euclidean'), axis=1)) / x_train.shape[0]\n",
    "\tmapping2[k] = kmeanModel.inertia_"
   ]
  },
  {
   "cell_type": "code",
   "execution_count": 38,
   "id": "4f9ad7d9",
   "metadata": {},
   "outputs": [
    {
     "data": {
      "image/png": "[encoded data removed]",
      "text/plain": [
       "<Figure size 432x288 with 1 Axes>"
      ]
     },
     "metadata": {
      "needs_background": "light"
     },
     "output_type": "display_data"
    }
   ],
   "source": [
    "plt.plot(K, distortions, 'bx-')\n",
    "plt.xlabel('Values of K')\n",
    "plt.ylabel('Distortion')\n",
    "plt.title('The Elbow Method using Distortion')\n",
    "plt.show()"
   ]
  },
  {
   "cell_type": "code",
   "execution_count": 39,
   "id": "ebaaa45a",
   "metadata": {},
   "outputs": [
    {
     "data": {
      "image/png": "[encoded data removed]",
      "text/plain": [
       "<Figure size 432x288 with 1 Axes>"
      ]
     },
     "metadata": {
      "needs_background": "light"
     },
     "output_type": "display_data"
    }
   ],
   "source": [
    "plt.plot(K, inertias, 'bx-')\n",
    "plt.xlabel('Values of K')\n",
    "plt.ylabel('Inertia')\n",
    "plt.title('The Elbow Method using Inertia')\n",
    "plt.show()"
   ]
  },
  {
   "cell_type": "code",
   "execution_count": 40,
   "id": "36747569",
   "metadata": {},
   "outputs": [
    {
     "name": "stdout",
     "output_type": "stream",
     "text": [
      "[0.5427089396966015, 0.4697737689528694, 0.4066255524987058, 0.3784873448417778, 0.38198810881507433]\n"
     ]
    },
    {
     "data": {
      "image/png": "[encoded data removed]",
      "text/plain": [
       "<Figure size 432x288 with 1 Axes>"
      ]
     },
     "metadata": {
      "needs_background": "light"
     },
     "output_type": "display_data"
    }
   ],
   "source": [
    "range_n_clusters = [2, 3, 4, 5, 6]\n",
    "silhouette_avg = []\n",
    "\n",
    "for num_clusters in range_n_clusters:\n",
    "    kmeans = KMeans(n_clusters=num_clusters)\n",
    "    kmeans.fit(x_train)\n",
    "    cluster_labels = kmeans.labels_\n",
    "    silhouette_avg.append(silhouette_score(x_train, cluster_labels))\n",
    "\n",
    "\n",
    "print(silhouette_avg)\n",
    "plt.plot(range_n_clusters,silhouette_avg,'bx-')\n",
    "plt.xlabel('Values of K') \n",
    "plt.ylabel('Silhouette score') \n",
    "plt.title('Silhouette analysis For Optimal k')\n",
    "plt.show()"
   ]
  },
  {
   "cell_type": "code",
   "execution_count": 41,
   "id": "7c09f537",
   "metadata": {},
   "outputs": [
    {
     "name": "stdout",
     "output_type": "stream",
     "text": [
      "Fold:\t 1\n",
      "****************************************************************************************************\n",
      "Centroid : [[ 23.61363636   0.45454545   0.77272727   0.47727273  68.43181818]\n",
      " [ 23.76470588   0.47058824   0.82352941   0.5        141.17647059]\n",
      " [ 31.17073171   0.65853659   1.19512195   0.51219512  22.65853659]\n",
      " [ 37.46428571   0.71428571   0.92857143   0.35714286 107.17857143]\n",
      " [ 26.18181818   0.42424242   0.72727273   0.57575758 179.63636364]]\n",
      "The classes present in cluster 0:\n",
      "[3 4 1 2]\n",
      "The classes present in cluster 1:\n",
      "[0]\n",
      "The classes present in cluster 2:\n",
      "[3 4 2 1]\n",
      "The classes present in cluster 3:\n",
      "[3 0 1 4 2]\n",
      "The classes present in cluster 4:\n",
      "[0]\n",
      "f1_score for Fold 0 :\t 0.5\n",
      "Fold:\t 2\n",
      "****************************************************************************************************\n",
      "Centroid : [[ 25.03030303   0.39393939   0.75757576   0.57575758 179.66666667]\n",
      " [ 24.76744186   0.46511628   0.74418605   0.51162791  68.97674419]\n",
      " [ 25.57142857   0.45714286   0.8          0.51428571 140.22857143]\n",
      " [ 36.73333333   0.6          1.03333333   0.33333333 106.73333333]\n",
      " [ 30.76923077   0.61538462   1.20512821   0.56410256  22.84615385]]\n",
      "The classes present in cluster 0:\n",
      "[0]\n",
      "The classes present in cluster 1:\n",
      "[3 4 1 2]\n",
      "The classes present in cluster 2:\n",
      "[0]\n",
      "The classes present in cluster 3:\n",
      "[0 1 4 2 3]\n",
      "The classes present in cluster 4:\n",
      "[3 4 2 1]\n",
      "f1_score for Fold 1 :\t 0.45\n",
      "Fold:\t 3\n",
      "****************************************************************************************************\n",
      "Centroid : [[ 29.34210526   0.39473684   0.76315789   0.52631579 176.31578947]\n",
      " [ 24.45238095   0.47619048   0.78571429   0.47619048  67.71428571]\n",
      " [ 29.04651163   0.62790698   1.1627907    0.53488372  22.88372093]\n",
      " [ 18.9          0.53333333   0.73333333   0.5        139.76666667]\n",
      " [ 39.03703704   0.51851852   1.           0.25925926 109.88888889]]\n",
      "The classes present in cluster 0:\n",
      "[0]\n",
      "The classes present in cluster 1:\n",
      "[3 4 1 2]\n",
      "The classes present in cluster 2:\n",
      "[3 4 2 1]\n",
      "The classes present in cluster 3:\n",
      "[0]\n",
      "The classes present in cluster 4:\n",
      "[0 1 4 2 3]\n",
      "f1_score for Fold 2 :\t 0.85\n",
      "Fold:\t 4\n",
      "****************************************************************************************************\n",
      "Centroid : [[ 23.33333333   0.47619048   0.76190476   0.54761905  68.76190476]\n",
      " [ 26.3          0.5          0.8          0.5        138.7       ]\n",
      " [ 24.75675676   0.37837838   0.75675676   0.54054054 177.45945946]\n",
      " [ 30.71428571   0.69047619   1.14285714   0.52380952  22.5       ]\n",
      " [ 36.62068966   0.65517241   1.10344828   0.31034483 107.34482759]]\n",
      "The classes present in cluster 0:\n",
      "[3 4 1 2]\n",
      "The classes present in cluster 1:\n",
      "[0]\n",
      "The classes present in cluster 2:\n",
      "[0]\n",
      "The classes present in cluster 3:\n",
      "[3 4 2 1]\n",
      "The classes present in cluster 4:\n",
      "[3 0 4 2]\n",
      "f1_score for Fold 3 :\t 0.7\n",
      "Fold:\t 5\n",
      "****************************************************************************************************\n",
      "Centroid : [[ 21.81818182   0.42424242   0.84848485   0.45454545  83.45454545]\n",
      " [ 26.23809524   0.45238095   0.76190476   0.54761905 173.54761905]\n",
      " [ 23.26666667   0.66666667   1.23333333   0.56666667  15.73333333]\n",
      " [ 30.11627907   0.51162791   0.93023256   0.41860465 127.30232558]\n",
      " [ 38.3125       0.65625      0.90625      0.46875     48.0625    ]]\n",
      "The classes present in cluster 0:\n",
      "[3 4 1 2]\n",
      "The classes present in cluster 1:\n",
      "[0]\n",
      "The classes present in cluster 2:\n",
      "[4 3 1 2]\n",
      "The classes present in cluster 3:\n",
      "[0 2 4]\n",
      "The classes present in cluster 4:\n",
      "[3 4 2 1]\n",
      "f1_score for Fold 4 :\t 0.45\n",
      "Fold:\t 6\n",
      "****************************************************************************************************\n",
      "Centroid : [[ 25.88235294   0.41176471   0.70588235   0.52941176 179.08823529]\n",
      " [ 24.37209302   0.46511628   0.79069767   0.48837209  67.55813953]\n",
      " [ 29.76315789   0.65789474   1.18421053   0.5         21.55263158]\n",
      " [ 37.0625       0.625        1.03125      0.3125     106.625     ]\n",
      " [ 23.51515152   0.48484848   0.72727273   0.54545455 142.24242424]]\n",
      "The classes present in cluster 0:\n",
      "[0]\n",
      "The classes present in cluster 1:\n",
      "[3 4 1 2]\n",
      "The classes present in cluster 2:\n",
      "[4 3 2 1]\n",
      "The classes present in cluster 3:\n",
      "[3 0 1 4 2]\n",
      "The classes present in cluster 4:\n",
      "[0]\n",
      "f1_score for Fold 5 :\t 0.45\n",
      "Fold:\t 7\n",
      "****************************************************************************************************\n",
      "Centroid : [[ 23.78947368   0.44736842   0.84210526   0.42105263  83.34210526]\n",
      " [ 26.80487805   0.3902439    0.75609756   0.53658537 175.87804878]\n",
      " [ 36.93548387   0.64516129   0.93548387   0.48387097  47.5483871 ]\n",
      " [ 28.16666667   0.5          0.92857143   0.47619048 130.95238095]\n",
      " [ 22.53571429   0.67857143   1.21428571   0.53571429  16.57142857]]\n",
      "The classes present in cluster 0:\n",
      "[3 4 1 2]\n",
      "The classes present in cluster 1:\n",
      "[0]\n",
      "The classes present in cluster 2:\n",
      "[3 4 2 1]\n",
      "The classes present in cluster 3:\n",
      "[0 4]\n",
      "The classes present in cluster 4:\n",
      "[4 3 1 2]\n",
      "f1_score for Fold 6 :\t 0.4000000000000001\n",
      "Fold:\t 8\n",
      "****************************************************************************************************\n",
      "Centroid : [[ 38.           0.62068966   1.06896552   0.24137931 106.27586207]\n",
      " [ 30.40909091   0.65909091   1.15909091   0.52272727  22.09090909]\n",
      " [ 26.12121212   0.36363636   0.81818182   0.54545455 178.54545455]\n",
      " [ 24.72222222   0.44444444   0.80555556   0.52777778 141.19444444]\n",
      " [ 23.26315789   0.39473684   0.81578947   0.5         68.02631579]]\n",
      "The classes present in cluster 0:\n",
      "[3 0 1 4 2]\n",
      "The classes present in cluster 1:\n",
      "[3 4 2 1]\n",
      "The classes present in cluster 2:\n",
      "[0]\n",
      "The classes present in cluster 3:\n",
      "[0]\n",
      "The classes present in cluster 4:\n",
      "[3 4 1 2]\n",
      "f1_score for Fold 7 :\t 0.55\n",
      "Fold:\t 9\n",
      "****************************************************************************************************\n",
      "Centroid : [[ 25.35135135   0.48648649   0.81081081   0.43243243  63.05405405]\n",
      " [ 26.375        0.4375       0.78125      0.53125    178.15625   ]\n",
      " [ 28.57894737   0.65789474   1.21052632   0.52631579  19.52631579]\n",
      " [ 32.78378378   0.51351351   0.91891892   0.35135135 103.2972973 ]\n",
      " [ 25.11111111   0.44444444   0.80555556   0.47222222 142.13888889]]\n",
      "The classes present in cluster 0:\n",
      "[3 4 2 1]\n",
      "The classes present in cluster 1:\n",
      "[0]\n",
      "The classes present in cluster 2:\n",
      "[4 3 2 1]\n",
      "The classes present in cluster 3:\n",
      "[3 0 1 4 2]\n",
      "The classes present in cluster 4:\n",
      "[0]\n",
      "f1_score for Fold 8 :\t 0.45\n",
      "Fold:\t 10\n",
      "****************************************************************************************************\n",
      "Centroid : [[ 26.6969697    0.39393939   0.78787879   0.51515152 178.81818182]\n",
      " [ 23.80952381   0.47619048   0.83333333   0.52380952  68.57142857]\n",
      " [ 23.91428571   0.48571429   0.82857143   0.54285714 141.05714286]\n",
      " [ 30.53846154   0.61538462   1.12820513   0.53846154  22.66666667]\n",
      " [ 36.80645161   0.61290323   1.           0.32258065 106.09677419]]\n",
      "The classes present in cluster 0:\n",
      "[0]\n",
      "The classes present in cluster 1:\n",
      "[3 4 1 2]\n",
      "The classes present in cluster 2:\n",
      "[0]\n",
      "The classes present in cluster 3:\n",
      "[3 4 1 2]\n",
      "The classes present in cluster 4:\n",
      "[3 0 1 4 2]\n",
      "f1_score for Fold 9 :\t 0.85\n"
     ]
    }
   ],
   "source": [
    "lst_f1_score = []\n",
    "\n",
    "for i in range(10):\n",
    "    print('Fold:\\t',i+1)\n",
    "    print('*'*100)\n",
    "    data = lst_x_train[i]\n",
    "    kmeanModel = KMeans(n_clusters=5).fit(data)\n",
    "    data['cluster'] = kmeanModel.labels_\n",
    "    data['class'] = lst_y_train[i]\n",
    "    print(\"Centroid :\", kmeanModel.cluster_centers_)\n",
    "    \n",
    "    # Cluster 0\n",
    "    cluster_0 = data[data['cluster']==0]\n",
    "    print('The classes present in cluster 0:')\n",
    "    print(cluster_0['class'].unique())\n",
    "    # Cluster 1\n",
    "    print('The classes present in cluster 1:')\n",
    "    cluster_1 = data[data['cluster']==1]\n",
    "    print(cluster_1['class'].unique())\n",
    "    # Cluster 2\n",
    "    print('The classes present in cluster 2:')\n",
    "    cluster_2 = data[data['cluster']==2]\n",
    "    print(cluster_2['class'].unique())\n",
    "    # Cluster 3\n",
    "    print('The classes present in cluster 3:')\n",
    "    cluster_3 = data[data['cluster']==3]\n",
    "    print(cluster_3['class'].unique())\n",
    "    # Cluster 4\n",
    "    print('The classes present in cluster 4:')\n",
    "    cluster_4 = data[data['cluster']==4]\n",
    "    print(cluster_4['class'].unique())\n",
    "    \n",
    "    x_train_0, y_train_0 = cluster_0.iloc[:,[0,1,2,3,4]] , cluster_0[\"class\"]\n",
    "    x_train_1, y_train_1 = cluster_1.iloc[:,[0,1,2,3,4]] , cluster_1[\"class\"]\n",
    "    x_train_2, y_train_2 = cluster_2.iloc[:,[0,1,2,3,4]] , cluster_2[\"class\"]\n",
    "    x_train_3, y_train_3 = cluster_3.iloc[:,[0,1,2,3,4]] , cluster_3[\"class\"]\n",
    "    x_train_4, y_train_4 = cluster_4.iloc[:,[0,1,2,3,4]] , cluster_4[\"class\"]\n",
    "    \n",
    "    lst_clf = [RandomForestClassifier(n_estimators=10)]*5\n",
    "\n",
    "    lst_clf[0].fit(x_train_0, y_train_0)\n",
    "    lst_clf[1].fit(x_train_1, y_train_1)\n",
    "    lst_clf[2].fit(x_train_2, y_train_2)\n",
    "    lst_clf[3].fit(x_train_3, y_train_3)\n",
    "    lst_clf[4].fit(x_train_4, y_train_4)\n",
    "    \n",
    "    cluster_pred = []\n",
    "    class_pred   = []\n",
    "        \n",
    "    for j in range(len(lst_x_test[i])):\n",
    "        cluster_pred_j = kmeanModel.predict(lst_x_test[i].iloc[[j]])[0]\n",
    "        class_pred_j = lst_clf[cluster_pred_j].predict(lst_x_test[i].iloc[[j]])[0]\n",
    "\n",
    "        cluster_pred.append(cluster_pred_j)\n",
    "        class_pred.append(class_pred_j)\n",
    "\n",
    "    lst_x_test[i]['cluster_pred'] = cluster_pred\n",
    "    lst_x_test[i]['class_pred'] = class_pred\n",
    "    f1_score_ = f1_score(lst_y_test[i], lst_x_test[i]['class_pred'], average='micro')\n",
    "    lst_f1_score.append(f1_score_)\n",
    "    print('f1_score for Fold',i,':\\t',f1_score_)\n",
    "    \n",
    "\n",
    "    "
   ]
  },
  {
   "cell_type": "code",
   "execution_count": 42,
   "id": "0c2f1d81",
   "metadata": {},
   "outputs": [
    {
     "name": "stdout",
     "output_type": "stream",
     "text": [
      "F1_scores:\n",
      " [0.5, 0.45, 0.85, 0.7, 0.45, 0.45, 0.4000000000000001, 0.55, 0.45, 0.85]\n",
      "The Average: 0.5650000000000001\n",
      "Standard Deviation: 0.17167475709090785\n"
     ]
    }
   ],
   "source": [
    "print('F1_scores:\\n', lst_f1_score)\n",
    "print('The Average:', mean(lst_f1_score))\n",
    "print('Standard Deviation:', stdev(lst_f1_score))"
   ]
  },
  {
   "cell_type": "code",
   "execution_count": null,
   "id": "13a97bd7",
   "metadata": {},
   "outputs": [],
   "source": []
  }
 ],
 "metadata": {
  "kernelspec": {
   "display_name": "Python 3 (ipykernel)",
   "language": "python",
   "name": "python3"
  },
  "language_info": {
   "codemirror_mode": {
    "name": "ipython",
    "version": 3
   },
   "file_extension": ".py",
   "mimetype": "text/x-python",
   "name": "python",
   "nbconvert_exporter": "python",
   "pygments_lexer": "ipython3",
   "version": "3.9.7"
  }
 },
 "nbformat": 4,
 "nbformat_minor": 5
}
